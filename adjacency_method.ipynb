{
 "cells": [
  {
   "cell_type": "code",
   "execution_count": 1,
   "metadata": {},
   "outputs": [],
   "source": [
    "import pandas as pd"
   ]
  },
  {
   "cell_type": "markdown",
   "metadata": {},
   "source": [
    "# Importing the data\n",
    "\n",
    "Using the path to import the data henceforth from the `final_data.csv` file.\n",
    "\n",
    "Current path: `students_data/combined_data/final_data.csv`\n",
    "\n",
    "**NOTE**: Make sure to convert `outcome_date` to a pandas datetime object."
   ]
  },
  {
   "cell_type": "code",
   "execution_count": 3,
   "metadata": {},
   "outputs": [],
   "source": [
    "path = \"students_data/combined_data/final_data.csv\"\n",
    "\n",
    "final_data = pd.read_csv(path)"
   ]
  },
  {
   "cell_type": "code",
   "execution_count": 4,
   "metadata": {},
   "outputs": [],
   "source": [
    "# Organising date for outcome_date\n",
    "final_data['outcome_date'] = pd.to_datetime(final_data.outcome_date)"
   ]
  },
  {
   "cell_type": "markdown",
   "metadata": {},
   "source": [
    "# Importing methods from adjacency_method module\n",
    "\n",
    "The methods used to develop the adjacency matrix are in the `adjacency_method` python module."
   ]
  },
  {
   "cell_type": "code",
   "execution_count": 5,
   "metadata": {},
   "outputs": [],
   "source": [
    "from adjacency_method.sequence_matrix import sequence_matrix"
   ]
  },
  {
   "cell_type": "markdown",
   "metadata": {},
   "source": [
    "# Engineering data\n",
    "\n",
    "The following section is focused upon the students from the cohort `Bachelor of Engineering (Honours)`"
   ]
  },
  {
   "cell_type": "code",
   "execution_count": 6,
   "metadata": {},
   "outputs": [],
   "source": [
    "import sys"
   ]
  },
  {
   "cell_type": "code",
   "execution_count": 7,
   "metadata": {},
   "outputs": [],
   "source": [
    "eng_data = final_data.loc[final_data[\"student_cohort\"] == \"Bachelor of Engineering (Honours)\"]"
   ]
  },
  {
   "cell_type": "code",
   "execution_count": 8,
   "metadata": {},
   "outputs": [
    {
     "name": "stdout",
     "output_type": "stream",
     "text": [
      "Checking for the input parameter is pandas dataframe...✓\n",
      "Checking for the outcome_date to be a datetime object...✓\n",
      "Initiating sequence matrix generation...✓\n"
     ]
    }
   ],
   "source": [
    "M, students, units = sequence_matrix(eng_data)"
   ]
  },
  {
   "cell_type": "code",
   "execution_count": null,
   "metadata": {},
   "outputs": [],
   "source": []
  }
 ],
 "metadata": {
  "kernelspec": {
   "display_name": "Python 3",
   "language": "python",
   "name": "python3"
  },
  "language_info": {
   "codemirror_mode": {
    "name": "ipython",
    "version": 3
   },
   "file_extension": ".py",
   "mimetype": "text/x-python",
   "name": "python",
   "nbconvert_exporter": "python",
   "pygments_lexer": "ipython3",
   "version": "3.7.3"
  }
 },
 "nbformat": 4,
 "nbformat_minor": 2
}
