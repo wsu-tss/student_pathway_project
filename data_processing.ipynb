{
 "cells": [
  {
   "cell_type": "code",
   "execution_count": 1,
   "metadata": {},
   "outputs": [],
   "source": [
    "import pandas as pd\n",
    "import os"
   ]
  },
  {
   "cell_type": "markdown",
   "metadata": {},
   "source": [
    "# Getting the results and enrolments data\n",
    "\n",
    "This section of the notebook involves using the pandas dataframe to import the data from the .csv file.\n",
    "\n",
    "The data is stored in a root folder titled `student_data`\n",
    "\n",
    "This data is categorised into subsequent years. For example: 2015, 2016, ...\n",
    "\n",
    "The `years` array needs to be updated should the new data of the new year is added.\n",
    "\n",
    "Example of file naming convention for the data files:\n",
    "\n",
    "* Results from 2015: `results2015.csv`\n",
    "* Enrolments from 2015: `enrolments2015.csv`\n"
   ]
  },
  {
   "cell_type": "code",
   "execution_count": 2,
   "metadata": {},
   "outputs": [],
   "source": [
    "from studentpathway.dataprocessing.get_data_frames import get_data_frames\n",
    "from studentpathway.dataprocessing.get_year_list import get_year_list"
   ]
  },
  {
   "cell_type": "code",
   "execution_count": 3,
   "metadata": {},
   "outputs": [
    {
     "name": "stdout",
     "output_type": "stream",
     "text": [
      "Returns a list of dataframe of the requested data_name\n",
      "\n",
      "    Keyword arguments:\n",
      "    data_name -- The name of the data to be imported (example: data_name=enrolments)\n",
      "    root_folder -- The path to data folder where all the csv files are present (example: root_folder=students_data)\n",
      "    years -- A list of years which is the subfolder inside the root_folder\n",
      "\n",
      "    Returns:\n",
      "    data -- list of all the pandas dataframe of the data_name\n",
      "    \n"
     ]
    }
   ],
   "source": [
    "print(get_data_frames.__doc__)"
   ]
  },
  {
   "cell_type": "code",
   "execution_count": 4,
   "metadata": {},
   "outputs": [
    {
     "name": "stdout",
     "output_type": "stream",
     "text": [
      "Returns list of years from the subfolder named as years\n",
      "\n",
      "    Keyword arguments:\n",
      "    root_folder -- path of the root folder to get the years from (example: root_folder=\"students_data\")\n",
      "\n",
      "    Returns:\n",
      "    years -- list of years\n",
      "    \n"
     ]
    }
   ],
   "source": [
    "print(get_year_list.__doc__)"
   ]
  },
  {
   "cell_type": "markdown",
   "metadata": {},
   "source": [
    "# Constant Values\n",
    "\n",
    "The following section contains the constant values that are used while data processing"
   ]
  },
  {
   "cell_type": "code",
   "execution_count": 5,
   "metadata": {},
   "outputs": [],
   "source": [
    "# Root directory of the data\n",
    "ROOT_FOLDER = \"students_data\"\n",
    "RESULTS = \"results\"\n",
    "ENROLMENTS = \"enrolments\""
   ]
  },
  {
   "cell_type": "markdown",
   "metadata": {},
   "source": [
    "## Year list from the sub folders of data\n",
    "\n",
    "The data for the enrolments and results are stored in subfolder in the years.\n",
    "\n",
    "Instead of hard coding the years in an array, the following section finds the years by the subfolder name which needs to be in years.\n",
    "\n",
    "They years are converted into `int` datatype and sorted in `years` list."
   ]
  },
  {
   "cell_type": "code",
   "execution_count": 6,
   "metadata": {},
   "outputs": [
    {
     "name": "stdout",
     "output_type": "stream",
     "text": [
      "[2015, 2016, 2017, 2018, 2019]\n"
     ]
    }
   ],
   "source": [
    "years = get_year_list(ROOT_FOLDER)\n",
    "print(years)"
   ]
  },
  {
   "cell_type": "markdown",
   "metadata": {},
   "source": [
    "## Result data"
   ]
  },
  {
   "cell_type": "code",
   "execution_count": 7,
   "metadata": {},
   "outputs": [
    {
     "name": "stderr",
     "output_type": "stream",
     "text": [
      "c:\\users\\30055011\\onedrive - western sydney university\\coding_projects\\student_pathway_project\\venv\\lib\\site-packages\\IPython\\core\\interactiveshell.py:3263: DtypeWarning: Columns (1) have mixed types.Specify dtype option on import or set low_memory=False.\n",
      "  if (await self.run_code(code, result,  async_=asy)):\n"
     ]
    }
   ],
   "source": [
    "# Reading results files\n",
    "results_data = []\n",
    "\n",
    "results_data = get_data_frames(RESULTS, ROOT_FOLDER, years)"
   ]
  },
  {
   "cell_type": "code",
   "execution_count": 8,
   "metadata": {},
   "outputs": [],
   "source": [
    "# Standardising the columns\n",
    "results_column_header = [\"student_id\", \"course_code\", \"unit_cohort\", \"unit_code\", \"unit_name\", \"outcome_date\", \"teaching_calendar\", \"grade\", \"mark\"]\n",
    "\n",
    "for i in range(len(results_data)):\n",
    "    results_data[i].columns = results_column_header"
   ]
  },
  {
   "cell_type": "code",
   "execution_count": 9,
   "metadata": {},
   "outputs": [],
   "source": [
    "# Combining the results data\n",
    "\n",
    "results = pd.concat(results_data, axis=0, sort=False).reset_index(drop=True)"
   ]
  },
  {
   "cell_type": "code",
   "execution_count": 10,
   "metadata": {},
   "outputs": [
    {
     "data": {
      "text/plain": [
       "(1277496, 9)"
      ]
     },
     "execution_count": 10,
     "metadata": {},
     "output_type": "execute_result"
    }
   ],
   "source": [
    "# Size of the data\n",
    "results.shape"
   ]
  },
  {
   "cell_type": "markdown",
   "metadata": {},
   "source": [
    "## Enrolment data"
   ]
  },
  {
   "cell_type": "code",
   "execution_count": 11,
   "metadata": {},
   "outputs": [],
   "source": [
    "# Reading Enrolment files\n",
    "\n",
    "enrolment_data = []\n",
    "\n",
    "enrolment_data = get_data_frames(ENROLMENTS, ROOT_FOLDER, years)"
   ]
  },
  {
   "cell_type": "code",
   "execution_count": 12,
   "metadata": {},
   "outputs": [],
   "source": [
    "# Standardising the columns\n",
    "enrolments_column_header = [\"student_id\", \"course_code\", \"student_cohort\", \"school_name\", \"course_start_date\", \"course_attempt_status\", \"gender\", \"campus_code\", \"campus_name\", \"citizenship\", \"indigenous_type\", \"date_of_birth\", \"discontinued_date\", \"lapsed_date\"]\n",
    "\n",
    "for i in range(len(enrolment_data)):\n",
    "    enrolment_data[i].columns = enrolments_column_header"
   ]
  },
  {
   "cell_type": "code",
   "execution_count": 13,
   "metadata": {},
   "outputs": [],
   "source": [
    "# Combining the enrolment data\n",
    "\n",
    "enrolments = pd.concat(enrolment_data, axis=0, sort=False).reset_index(drop=True)"
   ]
  },
  {
   "cell_type": "code",
   "execution_count": 14,
   "metadata": {},
   "outputs": [
    {
     "data": {
      "text/plain": [
       "(139348, 14)"
      ]
     },
     "execution_count": 14,
     "metadata": {},
     "output_type": "execute_result"
    }
   ],
   "source": [
    "# Size of the data\n",
    "enrolments.shape"
   ]
  },
  {
   "cell_type": "markdown",
   "metadata": {},
   "source": [
    "# Merging Results and Enrolments Data"
   ]
  },
  {
   "cell_type": "code",
   "execution_count": 15,
   "metadata": {},
   "outputs": [],
   "source": [
    "# Removing the repeated columns\n",
    "enrolments = enrolments.drop([\"course_code\", \"school_name\"], axis=1)"
   ]
  },
  {
   "cell_type": "code",
   "execution_count": 16,
   "metadata": {},
   "outputs": [],
   "source": [
    "# Combining the tables\n",
    "\n",
    "final_data = results.join(enrolments.set_index('student_id'), on=\"student_id\")"
   ]
  },
  {
   "cell_type": "code",
   "execution_count": 17,
   "metadata": {},
   "outputs": [],
   "source": [
    "# Sorting the dataset with student ID\n",
    "\n",
    "final_data = final_data.sort_values(by=['student_id']).reset_index(drop=True)"
   ]
  },
  {
   "cell_type": "code",
   "execution_count": 18,
   "metadata": {},
   "outputs": [],
   "source": [
    "# Organising date for outcome_date\n",
    "final_data['outcome_date'] = pd.to_datetime(final_data.outcome_date)"
   ]
  },
  {
   "cell_type": "code",
   "execution_count": 19,
   "metadata": {},
   "outputs": [],
   "source": [
    "# Organising date for course_start_date\n",
    "final_data['course_start_date'] = pd.to_datetime(final_data.course_start_date)"
   ]
  },
  {
   "cell_type": "code",
   "execution_count": 20,
   "metadata": {},
   "outputs": [],
   "source": [
    "# Organising date for date_of_birth\n",
    "final_data['date_of_birth'] = pd.to_datetime(final_data.date_of_birth)"
   ]
  },
  {
   "cell_type": "code",
   "execution_count": 21,
   "metadata": {},
   "outputs": [
    {
     "data": {
      "text/plain": [
       "(2107370, 20)"
      ]
     },
     "execution_count": 21,
     "metadata": {},
     "output_type": "execute_result"
    }
   ],
   "source": [
    "final_data.shape"
   ]
  },
  {
   "cell_type": "markdown",
   "metadata": {},
   "source": [
    "## Duplicate data removal from final data\n",
    "\n",
    "Run the following section after merging the **results** and **enrolments**.\n",
    "\n",
    "The following code gets rid of the duplicate values."
   ]
  },
  {
   "cell_type": "code",
   "execution_count": 22,
   "metadata": {},
   "outputs": [],
   "source": [
    "final_data = final_data.drop_duplicates().reset_index(drop=True)"
   ]
  },
  {
   "cell_type": "code",
   "execution_count": 23,
   "metadata": {},
   "outputs": [
    {
     "data": {
      "text/plain": [
       "(1960101, 20)"
      ]
     },
     "execution_count": 23,
     "metadata": {},
     "output_type": "execute_result"
    }
   ],
   "source": [
    "final_data.shape"
   ]
  },
  {
   "cell_type": "markdown",
   "metadata": {},
   "source": [
    "# data cleaning - duplicates\n",
    "\n",
    "This code will remove further duplicates on the basis of given parameters\n",
    "\n",
    "**TODO**:\n",
    "\n",
    "* Identify the column which defines the duplicates\n",
    "* Filter for the data with those column\n",
    "* Remove the rows"
   ]
  },
  {
   "cell_type": "code",
   "execution_count": null,
   "metadata": {},
   "outputs": [],
   "source": []
  },
  {
   "cell_type": "code",
   "execution_count": null,
   "metadata": {},
   "outputs": [],
   "source": []
  },
  {
   "cell_type": "markdown",
   "metadata": {},
   "source": [
    "# Encrypt Student ID\n",
    "\n",
    "The following code must be run before saving the `final_data`.\n",
    "\n",
    "The code uses sha1 algorithm to encrypt student ID"
   ]
  },
  {
   "cell_type": "code",
   "execution_count": 24,
   "metadata": {},
   "outputs": [],
   "source": [
    "import hashlib\n",
    "\n",
    "students = final_data[\"student_id\"].to_list()\n",
    "\n",
    "encrypted_id = []\n",
    "\n",
    "for student in students:\n",
    "    encrypted_id.append(hashlib.sha1(str(student).encode('ASCII')).hexdigest())\n",
    "\n",
    "final_data[\"student_id\"] = encrypted_id"
   ]
  },
  {
   "cell_type": "markdown",
   "metadata": {},
   "source": [
    "# Storing the data\n",
    "\n",
    "The `final_data` is a pandas dataframe.\n",
    "\n",
    "Run the following section for storing `final_data` into a `final_data.csv` file.\n",
    "\n",
    "File path: `students_data/combined_data/final_data.csv`"
   ]
  },
  {
   "cell_type": "code",
   "execution_count": 25,
   "metadata": {},
   "outputs": [],
   "source": [
    "final_data.to_csv(r'students_data/combined_data/final_data.csv', index=False)"
   ]
  },
  {
   "cell_type": "markdown",
   "metadata": {},
   "source": [
    "# More information about Final Data\n",
    "\n",
    "**Note: Running this section is optional. It just provides more insight into the data.**\n",
    "\n",
    "Following section points out the different attributes obtained from the final dataset."
   ]
  },
  {
   "cell_type": "code",
   "execution_count": 26,
   "metadata": {},
   "outputs": [
    {
     "data": {
      "text/plain": [
       "student_id               83099\n",
       "course_code               1089\n",
       "unit_cohort                639\n",
       "unit_code                 2702\n",
       "unit_name                 2885\n",
       "outcome_date             75707\n",
       "teaching_calendar           51\n",
       "grade                       34\n",
       "mark                       101\n",
       "student_cohort             588\n",
       "course_start_date         1584\n",
       "course_attempt_status        6\n",
       "gender                       4\n",
       "campus_code                 25\n",
       "campus_name                 25\n",
       "citizenship                  6\n",
       "indigenous_type              5\n",
       "date_of_birth            11043\n",
       "discontinued_date         9675\n",
       "lapsed_date                760\n",
       "dtype: int64"
      ]
     },
     "execution_count": 26,
     "metadata": {},
     "output_type": "execute_result"
    }
   ],
   "source": [
    "final_data.nunique()"
   ]
  },
  {
   "cell_type": "code",
   "execution_count": 27,
   "metadata": {},
   "outputs": [
    {
     "data": {
      "text/plain": [
       "F    1045295\n",
       "M     784658\n",
       "X        553\n",
       "U        105\n",
       "Name: gender, dtype: int64"
      ]
     },
     "execution_count": 27,
     "metadata": {},
     "output_type": "execute_result"
    }
   ],
   "source": [
    "final_data[\"gender\"].value_counts()"
   ]
  },
  {
   "cell_type": "code",
   "execution_count": 28,
   "metadata": {},
   "outputs": [
    {
     "data": {
      "text/plain": [
       "NEITHER  ABORIGINAL NOR TORRES STRAIT ISLANDER ORIGIN    1803807\n",
       "OF ABORIGINAL ORIGIN                                       24320\n",
       "OF ABORIGINAL AND TORRES STRAIT ISLANDER ORIGIN             1962\n",
       "OF TORRES STRAIT ISLANDER ORIGIN                             454\n",
       "NO INFORMATION                                                68\n",
       "Name: indigenous_type, dtype: int64"
      ]
     },
     "execution_count": 28,
     "metadata": {},
     "output_type": "execute_result"
    }
   ],
   "source": [
    "final_data[\"indigenous_type\"].value_counts()"
   ]
  },
  {
   "cell_type": "code",
   "execution_count": 29,
   "metadata": {},
   "outputs": [
    {
     "data": {
      "text/plain": [
       "DISCONTIN    456684\n",
       "ENROLLED     431103\n",
       "LAPSED       389138\n",
       "COMPLETED    373220\n",
       "INACTIVE     155974\n",
       "INTERMIT      24492\n",
       "Name: course_attempt_status, dtype: int64"
      ]
     },
     "execution_count": 29,
     "metadata": {},
     "output_type": "execute_result"
    }
   ],
   "source": [
    "final_data[\"course_attempt_status\"].value_counts()"
   ]
  },
  {
   "cell_type": "code",
   "execution_count": 30,
   "metadata": {},
   "outputs": [
    {
     "data": {
      "text/plain": [
       "AUSTRALIAN CITIZEN                               1522682\n",
       "TEMPORARY ENTRY PERMIT OR NON NZ DIPLOMAT         206724\n",
       "PERMANENT RESIDENT (EXCLUDING NEW ZEALANDERS)      44766\n",
       "PERMANENT HUMANITARIAN VISA                        30805\n",
       "NEW ZEALAND CITIZEN OR DIPLOMAT                    19566\n",
       "OTHER RESIDENCY STATUS                              6068\n",
       "Name: citizenship, dtype: int64"
      ]
     },
     "execution_count": 30,
     "metadata": {},
     "output_type": "execute_result"
    }
   ],
   "source": [
    "final_data[\"citizenship\"].value_counts()"
   ]
  },
  {
   "cell_type": "code",
   "execution_count": null,
   "metadata": {},
   "outputs": [],
   "source": []
  }
 ],
 "metadata": {
  "kernelspec": {
   "display_name": "venv",
   "language": "python",
   "name": "venv"
  },
  "language_info": {
   "codemirror_mode": {
    "name": "ipython",
    "version": 3
   },
   "file_extension": ".py",
   "mimetype": "text/x-python",
   "name": "python",
   "nbconvert_exporter": "python",
   "pygments_lexer": "ipython3",
   "version": "3.7.3"
  }
 },
 "nbformat": 4,
 "nbformat_minor": 2
}
