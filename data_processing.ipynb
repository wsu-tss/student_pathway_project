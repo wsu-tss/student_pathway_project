{
 "cells": [
  {
   "cell_type": "code",
   "execution_count": 1,
   "metadata": {},
   "outputs": [],
   "source": [
    "import pandas as pd"
   ]
  },
  {
   "cell_type": "markdown",
   "metadata": {},
   "source": [
    "# Getting the results and enrolments data\n",
    "\n",
    "This section of the notebook involves using the pandas dataframe to import the data from the .csv file.\n",
    "\n",
    "The data is stored in a root folder titled `student_data`\n",
    "\n",
    "This data is categorised into subsequent years. For example: 2015, 2016, ...\n",
    "\n",
    "The `years` array needs to be updated should the new data of the new year is added.\n",
    "\n",
    "Example of file naming convention for the data files:\n",
    "\n",
    "* Results from 2015: `results2015.csv`\n",
    "* Enrolments from 2015: `enrolments2015.csv`\n"
   ]
  },
  {
   "cell_type": "code",
   "execution_count": 2,
   "metadata": {},
   "outputs": [],
   "source": [
    "def get_data_frames(data_name, root_folder, years):\n",
    "    \"\"\"Returns an array of dataframe of the requested data_name\n",
    "    \n",
    "    Keyword arguments:\n",
    "    data_name -- The name of the data to be imported\n",
    "    root_folder -- The root folder in which all the csv files are present\n",
    "    years -- An array of years which is the subfolder inside the root_folder\n",
    "    \"\"\"\n",
    "    data = []\n",
    "    \n",
    "    for i in range(len(years)):\n",
    "        file_name = str(data_name) + str(years[i]) + \".csv\"\n",
    "        path = root_folder + \"/\" + str(years[i]) + \"/\" + file_name\n",
    "        data.append(pd.read_csv(path))\n",
    "    return data"
   ]
  },
  {
   "cell_type": "markdown",
   "metadata": {},
   "source": [
    "# Constant Values\n",
    "\n",
    "The following section contains the constant values that are used while data processing"
   ]
  },
  {
   "cell_type": "code",
   "execution_count": 3,
   "metadata": {},
   "outputs": [],
   "source": [
    "# Root directory of the data\n",
    "ROOT_FOLDER = \"students_data\"\n",
    "RESULTS = \"results\"\n",
    "ENROLMENTS = \"enrolments\""
   ]
  },
  {
   "cell_type": "markdown",
   "metadata": {},
   "source": [
    "## Year list from the sub folders of data\n",
    "\n",
    "The data for the enrolments and results are stored in subfolder in the years.\n",
    "\n",
    "Instead of hard coding the years in an array, the following section finds the years by the subfolder name which needs to be in years.\n",
    "\n",
    "They years are converted into `int` datatype and sorted in `years` list."
   ]
  },
  {
   "cell_type": "code",
   "execution_count": 4,
   "metadata": {},
   "outputs": [
    {
     "name": "stdout",
     "output_type": "stream",
     "text": [
      "[2015, 2016, 2017, 2018, 2019]\n"
     ]
    }
   ],
   "source": [
    "# Array of subfolders as per the years\n",
    "import os\n",
    "\n",
    "# List the subfolders\n",
    "sub_folders = os.listdir(ROOT_FOLDER)\n",
    "\n",
    "years = []\n",
    "\n",
    "for year in sub_folders:\n",
    "    try:\n",
    "        years.append(int(year))\n",
    "    except ValueError:\n",
    "        continue\n",
    "\n",
    "# Sorting the year\n",
    "years.sort()\n",
    "\n",
    "print(years)"
   ]
  },
  {
   "cell_type": "markdown",
   "metadata": {},
   "source": [
    "## Result data"
   ]
  },
  {
   "cell_type": "code",
   "execution_count": 6,
   "metadata": {},
   "outputs": [],
   "source": [
    "# Reading results files\n",
    "results_data = []\n",
    "\n",
    "results_data = get_data_frames(RESULTS, ROOT_FOLDER, years)"
   ]
  },
  {
   "cell_type": "code",
   "execution_count": 7,
   "metadata": {},
   "outputs": [],
   "source": [
    "# Standardising the columns\n",
    "results_column_header = [\"student_id\", \"course_code\", \"unit_cohort\", \"unit_code\", \"unit_name\", \"outcome_date\", \"teaching_calendar\", \"grade\", \"mark\"]\n",
    "\n",
    "for i in range(len(results_data)):\n",
    "    results_data[i].columns = results_column_header"
   ]
  },
  {
   "cell_type": "code",
   "execution_count": 8,
   "metadata": {},
   "outputs": [],
   "source": [
    "# Combining the results data\n",
    "\n",
    "results = pd.concat(results_data, axis=0, sort=False).reset_index(drop=True)"
   ]
  },
  {
   "cell_type": "code",
   "execution_count": 9,
   "metadata": {},
   "outputs": [
    {
     "data": {
      "text/plain": [
       "(1277496, 9)"
      ]
     },
     "execution_count": 9,
     "metadata": {},
     "output_type": "execute_result"
    }
   ],
   "source": [
    "# Size of the data\n",
    "results.shape"
   ]
  },
  {
   "cell_type": "markdown",
   "metadata": {},
   "source": [
    "## Enrolment data"
   ]
  },
  {
   "cell_type": "code",
   "execution_count": 10,
   "metadata": {},
   "outputs": [],
   "source": [
    "# Reading Enrolment files\n",
    "\n",
    "enrolment_data = []\n",
    "\n",
    "enrolment_data = get_data_frames(ENROLMENTS, ROOT_FOLDER, years)"
   ]
  },
  {
   "cell_type": "code",
   "execution_count": 11,
   "metadata": {},
   "outputs": [],
   "source": [
    "# Standardising the columns\n",
    "enrolments_column_header = [\"student_id\", \"course_code\", \"student_cohort\", \"school_name\", \"course_start_date\", \"course_attempt_status\", \"gender\", \"campus_code\", \"campus_name\", \"citizenship\", \"indigenous_type\", \"date_of_birth\", \"discontinued_date\", \"lapsed_date\"]\n",
    "\n",
    "for i in range(len(enrolment_data)):\n",
    "    enrolment_data[i].columns = enrolments_column_header"
   ]
  },
  {
   "cell_type": "code",
   "execution_count": 12,
   "metadata": {},
   "outputs": [],
   "source": [
    "# Combining the enrolment data\n",
    "\n",
    "enrolments = pd.concat(enrolment_data, axis=0, sort=False).reset_index(drop=True)"
   ]
  },
  {
   "cell_type": "code",
   "execution_count": 13,
   "metadata": {},
   "outputs": [
    {
     "data": {
      "text/plain": [
       "(139348, 14)"
      ]
     },
     "execution_count": 13,
     "metadata": {},
     "output_type": "execute_result"
    }
   ],
   "source": [
    "# Size of the data\n",
    "enrolments.shape"
   ]
  },
  {
   "cell_type": "markdown",
   "metadata": {},
   "source": [
    "# Merging Results and Enrolments Data"
   ]
  },
  {
   "cell_type": "code",
   "execution_count": 14,
   "metadata": {},
   "outputs": [],
   "source": [
    "# Removing the repeated columns\n",
    "enrolments = enrolments.drop([\"course_code\", \"school_name\"], axis=1)"
   ]
  },
  {
   "cell_type": "code",
   "execution_count": 17,
   "metadata": {},
   "outputs": [],
   "source": [
    "# Combining the tables\n",
    "\n",
    "final_data = results.join(enrolments.set_index('student_id'), on=\"student_id\")"
   ]
  },
  {
   "cell_type": "code",
   "execution_count": 18,
   "metadata": {},
   "outputs": [],
   "source": [
    "# Sorting the dataset with student ID\n",
    "\n",
    "final_data = final_data.sort_values(by=['student_id']).reset_index(drop=True)"
   ]
  },
  {
   "cell_type": "code",
   "execution_count": 19,
   "metadata": {},
   "outputs": [],
   "source": [
    "# Organising date for outcome_date\n",
    "final_data['outcome_date'] = pd.to_datetime(final_data.outcome_date)"
   ]
  },
  {
   "cell_type": "code",
   "execution_count": 20,
   "metadata": {},
   "outputs": [],
   "source": [
    "# Organising date for course_start_date\n",
    "final_data['course_start_date'] = pd.to_datetime(final_data.course_start_date)"
   ]
  },
  {
   "cell_type": "code",
   "execution_count": 21,
   "metadata": {},
   "outputs": [],
   "source": [
    "# Organising date for date_of_birth\n",
    "final_data['date_of_birth'] = pd.to_datetime(final_data.date_of_birth)"
   ]
  },
  {
   "cell_type": "code",
   "execution_count": 22,
   "metadata": {},
   "outputs": [
    {
     "data": {
      "text/plain": [
       "(2107370, 20)"
      ]
     },
     "execution_count": 22,
     "metadata": {},
     "output_type": "execute_result"
    }
   ],
   "source": [
    "final_data.shape"
   ]
  },
  {
   "cell_type": "markdown",
   "metadata": {},
   "source": [
    "## Duplicate data removal from final data\n",
    "\n",
    "Run the following section after merging the **results** and **enrolments**.\n",
    "\n",
    "The following code gets rid of the duplicate values."
   ]
  },
  {
   "cell_type": "code",
   "execution_count": 23,
   "metadata": {},
   "outputs": [],
   "source": [
    "final_data = final_data.drop_duplicates().reset_index(drop=True)"
   ]
  },
  {
   "cell_type": "code",
   "execution_count": 24,
   "metadata": {},
   "outputs": [
    {
     "data": {
      "text/plain": [
       "(1960101, 20)"
      ]
     },
     "execution_count": 24,
     "metadata": {},
     "output_type": "execute_result"
    }
   ],
   "source": [
    "final_data.shape"
   ]
  },
  {
   "cell_type": "markdown",
   "metadata": {},
   "source": [
    "# data cleaning - duplicates\n",
    "\n",
    "This code will remove further duplicates on the basis of given parameters\n",
    "\n",
    "**TODO**:\n",
    "\n",
    "* Identify the column which defines the duplicates\n",
    "* Filter for the data with those column\n",
    "* Remove the rows"
   ]
  },
  {
   "cell_type": "code",
   "execution_count": null,
   "metadata": {},
   "outputs": [],
   "source": []
  },
  {
   "cell_type": "code",
   "execution_count": null,
   "metadata": {},
   "outputs": [],
   "source": []
  },
  {
   "cell_type": "markdown",
   "metadata": {},
   "source": [
    "# Encrypt Student ID\n",
    "\n",
    "The following code must be run before saving the `final_data`.\n",
    "\n",
    "The code uses sha1 algorithm to encrypt student ID"
   ]
  },
  {
   "cell_type": "code",
   "execution_count": 25,
   "metadata": {},
   "outputs": [],
   "source": [
    "import hashlib\n",
    "\n",
    "students = final_data[\"student_id\"].to_list()\n",
    "\n",
    "encrypted_id = []\n",
    "\n",
    "for student in students:\n",
    "    encrypted_id.append(hashlib.sha1(str(student).encode('ASCII')).hexdigest())\n",
    "\n",
    "final_data[\"student_id\"] = encrypted_id"
   ]
  },
  {
   "cell_type": "markdown",
   "metadata": {},
   "source": [
    "# Storing the data\n",
    "\n",
    "The `final_data` is a pandas dataframe.\n",
    "\n",
    "Run the following section for storing `final_data` into a `final_data.csv` file.\n",
    "\n",
    "File path: `students_data/combined_data/final_data.csv`"
   ]
  },
  {
   "cell_type": "code",
   "execution_count": 26,
   "metadata": {},
   "outputs": [],
   "source": [
    "final_data.to_csv(r'students_data/combined_data/final_data.csv', index=False)"
   ]
  },
  {
   "cell_type": "markdown",
   "metadata": {},
   "source": [
    "# More information about Final Data\n",
    "\n",
    "**Note: Running this section is optional. It just provides more insight into the data.**\n",
    "\n",
    "Following section points out the different attributes obtained from the final dataset."
   ]
  },
  {
   "cell_type": "code",
   "execution_count": 27,
   "metadata": {},
   "outputs": [
    {
     "data": {
      "text/plain": [
       "student_id               83099\n",
       "course_code               1089\n",
       "unit_cohort                639\n",
       "unit_code                 2702\n",
       "unit_name                 2885\n",
       "outcome_date             75707\n",
       "teaching_calendar           51\n",
       "grade                       34\n",
       "mark                       101\n",
       "student_cohort             588\n",
       "course_start_date         1584\n",
       "course_attempt_status        6\n",
       "gender                       4\n",
       "campus_code                 25\n",
       "campus_name                 25\n",
       "citizenship                  6\n",
       "indigenous_type              5\n",
       "date_of_birth            11043\n",
       "discontinued_date         9675\n",
       "lapsed_date                760\n",
       "dtype: int64"
      ]
     },
     "execution_count": 27,
     "metadata": {},
     "output_type": "execute_result"
    }
   ],
   "source": [
    "final_data.nunique()"
   ]
  },
  {
   "cell_type": "code",
   "execution_count": 28,
   "metadata": {},
   "outputs": [
    {
     "data": {
      "text/plain": [
       "F    1045295\n",
       "M     784658\n",
       "X        553\n",
       "U        105\n",
       "Name: gender, dtype: int64"
      ]
     },
     "execution_count": 28,
     "metadata": {},
     "output_type": "execute_result"
    }
   ],
   "source": [
    "final_data[\"gender\"].value_counts()"
   ]
  },
  {
   "cell_type": "code",
   "execution_count": 29,
   "metadata": {},
   "outputs": [
    {
     "data": {
      "text/plain": [
       "NEITHER  ABORIGINAL NOR TORRES STRAIT ISLANDER ORIGIN    1803807\n",
       "OF ABORIGINAL ORIGIN                                       24320\n",
       "OF ABORIGINAL AND TORRES STRAIT ISLANDER ORIGIN             1962\n",
       "OF TORRES STRAIT ISLANDER ORIGIN                             454\n",
       "NO INFORMATION                                                68\n",
       "Name: indigenous_type, dtype: int64"
      ]
     },
     "execution_count": 29,
     "metadata": {},
     "output_type": "execute_result"
    }
   ],
   "source": [
    "final_data[\"indigenous_type\"].value_counts()"
   ]
  },
  {
   "cell_type": "code",
   "execution_count": null,
   "metadata": {},
   "outputs": [],
   "source": []
  }
 ],
 "metadata": {
  "kernelspec": {
   "display_name": "Python 3",
   "language": "python",
   "name": "python3"
  },
  "language_info": {
   "codemirror_mode": {
    "name": "ipython",
    "version": 3
   },
   "file_extension": ".py",
   "mimetype": "text/x-python",
   "name": "python",
   "nbconvert_exporter": "python",
   "pygments_lexer": "ipython3",
   "version": "3.7.6"
  }
 },
 "nbformat": 4,
 "nbformat_minor": 2
}
